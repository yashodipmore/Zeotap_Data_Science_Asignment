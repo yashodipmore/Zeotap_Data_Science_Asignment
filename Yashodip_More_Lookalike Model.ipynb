{
 "cells": [
  {
   "cell_type": "markdown",
   "id": "34a0057d-dee6-46c1-9c67-22323ef5e6f5",
   "metadata": {},
   "source": [
    "# Task 2: Lookalike Model\n"
   ]
  },
  {
   "cell_type": "code",
   "execution_count": 1,
   "id": "e9f3c1b6-d863-429b-894d-89ebc348e86e",
   "metadata": {},
   "outputs": [],
   "source": [
    "import pandas as pd\n",
    "import numpy as np\n",
    "from sklearn.metrics.pairwise import cosine_similarity\n",
    "from sklearn.preprocessing import StandardScaler\n"
   ]
  },
  {
   "cell_type": "code",
   "execution_count": 3,
   "id": "d51f833e-cf5c-47d7-af6a-21f50e4a822a",
   "metadata": {},
   "outputs": [
    {
     "name": "stdout",
     "output_type": "stream",
     "text": [
      "Customers Dataset:\n",
      "   CustomerID        CustomerName         Region  SignupDate\n",
      "0      C0001    Lawrence Carroll  South America  2022-07-10\n",
      "1      C0002      Elizabeth Lutz           Asia  2022-02-13\n",
      "2      C0003      Michael Rivera  South America  2024-03-07\n",
      "3      C0004  Kathleen Rodriguez  South America  2022-10-09\n",
      "4      C0005         Laura Weber           Asia  2022-08-15\n",
      "Transactions Dataset:\n",
      "   TransactionID CustomerID ProductID      TransactionDate  Quantity  \\\n",
      "0        T00001      C0199      P067  2024-08-25 12:38:23         1   \n",
      "1        T00112      C0146      P067  2024-05-27 22:23:54         1   \n",
      "2        T00166      C0127      P067   2024-04-25 7:38:55         1   \n",
      "3        T00272      C0087      P067  2024-03-26 22:55:37         2   \n",
      "4        T00363      C0070      P067  2024-03-21 15:10:10         3   \n",
      "\n",
      "   TotalValue   Price  \n",
      "0      300.68  300.68  \n",
      "1      300.68  300.68  \n",
      "2      300.68  300.68  \n",
      "3      601.36  300.68  \n",
      "4      902.04  300.68  \n",
      "Products Dataset:\n",
      "   ProductID              ProductName     Category   Price\n",
      "0      P001     ActiveWear Biography        Books  169.30\n",
      "1      P002    ActiveWear Smartwatch  Electronics  346.30\n",
      "2      P003  ComfortLiving Biography        Books   44.12\n",
      "3      P004            BookWorld Rug   Home Decor   95.69\n",
      "4      P005          TechPro T-Shirt     Clothing  429.31\n"
     ]
    }
   ],
   "source": [
    "# Load datasets\n",
    "customers_df = pd.read_csv(\"Downloads/Customers.csv\")\n",
    "transactions_df = pd.read_csv(\"Downloads/Transactions.csv\")\n",
    "products_df = pd.read_csv(\"Downloads/Products.csv\")\n",
    "\n",
    "# Display the first few rows\n",
    "print(\"Customers Dataset:\\n\", customers_df.head())\n",
    "print(\"Transactions Dataset:\\n\", transactions_df.head())\n",
    "print(\"Products Dataset:\\n\", products_df.head())\n"
   ]
  },
  {
   "cell_type": "code",
   "execution_count": 4,
   "id": "4fb4c706-9bb3-4de8-8323-cfd80580efae",
   "metadata": {},
   "outputs": [
    {
     "name": "stdout",
     "output_type": "stream",
     "text": [
      "  TransactionID CustomerID ProductID     TransactionDate  Quantity  \\\n",
      "0        T00001      C0199      P067 2024-08-25 12:38:23         1   \n",
      "1        T00112      C0146      P067 2024-05-27 22:23:54         1   \n",
      "2        T00166      C0127      P067 2024-04-25 07:38:55         1   \n",
      "3        T00272      C0087      P067 2024-03-26 22:55:37         2   \n",
      "4        T00363      C0070      P067 2024-03-21 15:10:10         3   \n",
      "\n",
      "   TotalValue  Price_x     CustomerName         Region  SignupDate  \\\n",
      "0      300.68   300.68   Andrea Jenkins         Europe  2022-12-03   \n",
      "1      300.68   300.68  Brittany Harvey           Asia  2024-09-04   \n",
      "2      300.68   300.68  Kathryn Stevens         Europe  2024-04-04   \n",
      "3      601.36   300.68  Travis Campbell  South America  2024-04-11   \n",
      "4      902.04   300.68    Timothy Perez         Europe  2022-03-15   \n",
      "\n",
      "                       ProductName     Category  Price_y  \n",
      "0  ComfortLiving Bluetooth Speaker  Electronics   300.68  \n",
      "1  ComfortLiving Bluetooth Speaker  Electronics   300.68  \n",
      "2  ComfortLiving Bluetooth Speaker  Electronics   300.68  \n",
      "3  ComfortLiving Bluetooth Speaker  Electronics   300.68  \n",
      "4  ComfortLiving Bluetooth Speaker  Electronics   300.68  \n"
     ]
    }
   ],
   "source": [
    "# Merge transactions with customers and products\n",
    "merged_df = transactions_df.merge(customers_df, on=\"CustomerID\")\n",
    "merged_df = merged_df.merge(products_df, on=\"ProductID\")\n",
    "\n",
    "# Convert TransactionDate to datetime\n",
    "merged_df[\"TransactionDate\"] = pd.to_datetime(merged_df[\"TransactionDate\"])\n",
    "\n",
    "# Display merged dataset\n",
    "print(merged_df.head())\n"
   ]
  },
  {
   "cell_type": "markdown",
   "id": "f14fbca8-67ae-4e0b-8c85-937b0cac687f",
   "metadata": {},
   "source": [
    "## Feature Engineering"
   ]
  },
  {
   "cell_type": "code",
   "execution_count": 5,
   "id": "77ff3d67-7f96-427b-bc64-684c72083482",
   "metadata": {},
   "outputs": [
    {
     "name": "stdout",
     "output_type": "stream",
     "text": [
      "  CustomerID  total_spent  avg_purchase_value  num_transactions  \\\n",
      "0      C0001      3354.52             670.904                 5   \n",
      "1      C0002      1862.74             465.685                 4   \n",
      "2      C0003      2725.38             681.345                 4   \n",
      "3      C0004      5354.88             669.360                 8   \n",
      "4      C0005      2034.24             678.080                 3   \n",
      "\n",
      "   unique_products_bought  \n",
      "0                       5  \n",
      "1                       4  \n",
      "2                       4  \n",
      "3                       8  \n",
      "4                       3  \n"
     ]
    }
   ],
   "source": [
    "# Aggregate customer transaction features\n",
    "customer_features = merged_df.groupby(\"CustomerID\").agg(\n",
    "    total_spent=(\"TotalValue\", \"sum\"),\n",
    "    avg_purchase_value=(\"TotalValue\", \"mean\"),\n",
    "    num_transactions=(\"TransactionID\", \"count\"),\n",
    "    unique_products_bought=(\"ProductID\", \"nunique\")\n",
    ").reset_index()\n",
    "\n",
    "# Display computed features\n",
    "print(customer_features.head())\n"
   ]
  },
  {
   "cell_type": "markdown",
   "id": "c312c56c-a36e-4c17-86ce-3db8b47cf049",
   "metadata": {},
   "source": [
    "## Standardize Features"
   ]
  },
  {
   "cell_type": "code",
   "execution_count": 6,
   "id": "e64f5cc5-11fd-425e-8b40-5dc95d5e6a14",
   "metadata": {},
   "outputs": [
    {
     "name": "stdout",
     "output_type": "stream",
     "text": [
      "   total_spent  avg_purchase_value  num_transactions  unique_products_bought  \\\n",
      "0    -0.061701           -0.070263         -0.011458                0.050047   \n",
      "1    -0.877744           -0.934933         -0.467494               -0.424204   \n",
      "2    -0.405857           -0.026271         -0.467494               -0.424204   \n",
      "3     1.032547           -0.076769          1.356650                1.472798   \n",
      "4    -0.783929           -0.040028         -0.923530               -0.898455   \n",
      "\n",
      "  CustomerID  \n",
      "0      C0001  \n",
      "1      C0002  \n",
      "2      C0003  \n",
      "3      C0004  \n",
      "4      C0005  \n"
     ]
    }
   ],
   "source": [
    "# Standardize features\n",
    "scaler = StandardScaler()\n",
    "scaled_features = scaler.fit_transform(customer_features.iloc[:, 1:])\n",
    "\n",
    "# Convert back to DataFrame\n",
    "customer_features_scaled = pd.DataFrame(scaled_features, columns=customer_features.columns[1:])\n",
    "customer_features_scaled[\"CustomerID\"] = customer_features[\"CustomerID\"]\n",
    "\n",
    "# Display scaled features\n",
    "print(customer_features_scaled.head())\n"
   ]
  },
  {
   "cell_type": "markdown",
   "id": "b275774a-befb-4400-8fd2-8718fee184b1",
   "metadata": {},
   "source": [
    "## Compute Similarity Scores"
   ]
  },
  {
   "cell_type": "code",
   "execution_count": 7,
   "id": "a031f5f4-f0d3-4081-9c84-695833e5ff14",
   "metadata": {},
   "outputs": [
    {
     "name": "stdout",
     "output_type": "stream",
     "text": [
      "CustomerID     C0001     C0002     C0003     C0004     C0005     C0006  \\\n",
      "CustomerID                                                               \n",
      "C0001       1.000000  0.681909  0.137497 -0.000631  0.104379 -0.817502   \n",
      "C0002       0.681909  1.000000  0.726043 -0.649737  0.713370 -0.574811   \n",
      "C0003       0.137497  0.726043  1.000000 -0.990094  0.999224  0.145356   \n",
      "C0004      -0.000631 -0.649737 -0.990094  1.000000 -0.994545 -0.243356   \n",
      "C0005       0.104379  0.713370  0.999224 -0.994545  1.000000  0.162666   \n",
      "\n",
      "CustomerID     C0007     C0008     C0009     C0010  ...     C0191     C0192  \\\n",
      "CustomerID                                          ...                       \n",
      "C0001      -0.333941  0.386237  0.624453  0.709473  ...  0.919641  0.624733   \n",
      "C0002       0.251699 -0.287615  0.995853  0.998487  ...  0.857196  0.994684   \n",
      "C0003       0.847614 -0.845892  0.755674  0.687131  ...  0.287739  0.792995   \n",
      "C0004      -0.892865  0.904547 -0.688581 -0.607304  ... -0.174444 -0.723908   \n",
      "C0005       0.856529 -0.860243  0.745599  0.673804  ...  0.265389  0.781651   \n",
      "\n",
      "CustomerID     C0193     C0194     C0195     C0196     C0197     C0198  \\\n",
      "CustomerID                                                               \n",
      "C0001      -0.250786  0.419163  0.078533 -0.891648  0.186112  0.359169   \n",
      "C0002       0.347354 -0.239990 -0.595834 -0.604817  0.779594  0.904670   \n",
      "C0003       0.897026 -0.828913 -0.975937  0.099661  0.995790  0.941825   \n",
      "C0004      -0.932562  0.890387  0.996839 -0.211301 -0.981563 -0.908311   \n",
      "C0005       0.904113 -0.843402 -0.983129  0.121884  0.994959  0.938235   \n",
      "\n",
      "CustomerID     C0199     C0200  \n",
      "CustomerID                      \n",
      "C0001       0.653288 -0.846661  \n",
      "C0002       0.998585 -0.889077  \n",
      "C0003       0.761586 -0.334939  \n",
      "C0004      -0.688907  0.236094  \n",
      "C0005       0.749583 -0.317883  \n",
      "\n",
      "[5 rows x 199 columns]\n"
     ]
    }
   ],
   "source": [
    "# Compute similarity matrix\n",
    "similarity_matrix = cosine_similarity(customer_features_scaled.iloc[:, :-1])\n",
    "\n",
    "# Convert to DataFrame\n",
    "similarity_df = pd.DataFrame(similarity_matrix, index=customer_features[\"CustomerID\"], columns=customer_features[\"CustomerID\"])\n",
    "\n",
    "# Display similarity matrix\n",
    "print(similarity_df.head())\n"
   ]
  },
  {
   "cell_type": "markdown",
   "id": "ab3eec33-bcf2-47cb-85e6-83b7218622a1",
   "metadata": {},
   "source": [
    "## Find Lookalike Customers"
   ]
  },
  {
   "cell_type": "code",
   "execution_count": 8,
   "id": "cf6f4e98-63b7-4ed4-a294-967eda2e7b42",
   "metadata": {},
   "outputs": [
    {
     "name": "stdout",
     "output_type": "stream",
     "text": [
      "{'C0001': [('C0137', 0.9962112629754638), ('C0152', 0.9810644990181483), ('C0056', 0.9482579835224701)], 'C0002': [('C0029', 0.9995348566666873), ('C0199', 0.99858484559402), ('C0010', 0.9984869862496091)], 'C0003': [('C0178', 0.9996894278379866), ('C0005', 0.999223799679947), ('C0073', 0.9984785252854043)], 'C0004': [('C0021', 0.9997854801171627), ('C0075', 0.9995851081107424), ('C0067', 0.999206594708233)], 'C0005': [('C0073', 0.999666986623941), ('C0063', 0.9994007672469035), ('C0159', 0.9992953646426336)], 'C0006': [('C0079', 0.9999771688934571), ('C0117', 0.9978898632254388), ('C0196', 0.9887961815413687)], 'C0007': [('C0085', 0.999857675584863), ('C0140', 0.99853477231425), ('C0070', 0.9960789693978743)], 'C0008': [('C0194', 0.9963830439832919), ('C0154', 0.9941613135252719), ('C0090', 0.9910418377744797)], 'C0009': [('C0077', 0.9997954982200685), ('C0032', 0.9974983679777031), ('C0199', 0.9969684191191535)], 'C0010': [('C0029', 0.9996995348192107), ('C0025', 0.9991885304713041), ('C0002', 0.9984869862496091)], 'C0011': [('C0183', 0.9985334521685566), ('C0048', 0.9985210165295916), ('C0016', 0.9981123784729454)], 'C0012': [('C0102', 0.9959742838621766), ('C0145', 0.9855065306805755), ('C0165', 0.9809022642280015)], 'C0013': [('C0045', 0.9999827293700759), ('C0041', 0.9992061962817078), ('C0022', 0.9987774330439124)], 'C0014': [('C0128', 0.9982306143134968), ('C0058', 0.9963435681413657), ('C0151', 0.9956062597123907)], 'C0015': [('C0036', 0.9993643154378872), ('C0150', 0.9983889873635561), ('C0197', 0.997263121614604)], 'C0016': [('C0048', 0.9999750869460016), ('C0183', 0.9999734426969953), ('C0064', 0.9994205683658908)], 'C0017': [('C0162', 0.9998572010125102), ('C0124', 0.9985955352676052), ('C0109', 0.9944933886330558)], 'C0018': [('C0200', 0.9999997548789544), ('C0170', 0.9999920463332393), ('C0182', 0.9999868718944912)], 'C0019': [('C0172', 0.9999929401536444), ('C0116', 0.9833381622447946), ('C0034', 0.9407682698487492)], 'C0020': [('C0110', 0.9996604595335035), ('C0042', 0.9979170641989846), ('C0129', 0.9973376130754564)]}\n"
     ]
    }
   ],
   "source": [
    "# Function to get top 3 similar customers\n",
    "def get_top_similar(customers, top_n=3):\n",
    "    similar_customers = {}\n",
    "    for customer in customers:\n",
    "        top_similars = similarity_df[customer].nlargest(top_n + 1)[1:].reset_index()\n",
    "        similar_customers[customer] = list(zip(top_similars[\"CustomerID\"], top_similars[customer]))\n",
    "    return similar_customers\n",
    "\n",
    "# Get lookalikes for first 20 customers\n",
    "lookalike_results = get_top_similar(customer_features[\"CustomerID\"][:20])\n",
    "\n",
    "# Display results\n",
    "print(lookalike_results)\n"
   ]
  },
  {
   "cell_type": "markdown",
   "id": "ebbf462d-621b-40e8-977f-8b0bab4d9554",
   "metadata": {},
   "source": [
    "## Save Results to CSV"
   ]
  },
  {
   "cell_type": "code",
   "execution_count": 9,
   "id": "40f3c906-9068-4f3f-8311-19ee279fe848",
   "metadata": {},
   "outputs": [
    {
     "name": "stdout",
     "output_type": "stream",
     "text": [
      "Lookalike recommendations saved to Lookalike.csv\n"
     ]
    }
   ],
   "source": [
    "# Convert to DataFrame\n",
    "lookalike_df = pd.DataFrame([\n",
    "    {\"CustomerID\": cust, \"Lookalikes\": str(lookalike_results[cust])} \n",
    "    for cust in lookalike_results\n",
    "])\n",
    "\n",
    "# Save to CSV\n",
    "lookalike_df.to_csv(\"Lookalike.csv\", index=False)\n",
    "\n",
    "print(\"Lookalike recommendations saved to Lookalike.csv\")\n"
   ]
  },
  {
   "cell_type": "code",
   "execution_count": 13,
   "id": "a7c227a4-d022-48c1-949c-c0ab4106381e",
   "metadata": {},
   "outputs": [],
   "source": [
    "lookalike_df.to_csv(\"C:\\\\Users\\\\morey\\\\Downloads\\\\Lookalike.csv\", index=False)\n"
   ]
  },
  {
   "cell_type": "code",
   "execution_count": null,
   "id": "61ecfa43-9a34-48a0-b6ee-b832f362344a",
   "metadata": {},
   "outputs": [],
   "source": []
  }
 ],
 "metadata": {
  "kernelspec": {
   "display_name": "Python 3 (ipykernel)",
   "language": "python",
   "name": "python3"
  },
  "language_info": {
   "codemirror_mode": {
    "name": "ipython",
    "version": 3
   },
   "file_extension": ".py",
   "mimetype": "text/x-python",
   "name": "python",
   "nbconvert_exporter": "python",
   "pygments_lexer": "ipython3",
   "version": "3.12.7"
  }
 },
 "nbformat": 4,
 "nbformat_minor": 5
}
